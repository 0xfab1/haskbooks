{
 "cells": [
  {
   "cell_type": "code",
   "execution_count": null,
   "metadata": {
    "collapsed": true
   },
   "outputs": [],
   "source": [
    "import Data.Maybe (fromMaybe)"
   ]
  },
  {
   "cell_type": "code",
   "execution_count": null,
   "metadata": {
    "collapsed": true
   },
   "outputs": [],
   "source": [
    "data BTree a = Empty \n",
    "    | Leaf a \n",
    "    | Branch (BTree a) a (BTree a)\n",
    "    deriving (Eq, Show)"
   ]
  },
  {
   "cell_type": "code",
   "execution_count": null,
   "metadata": {
    "collapsed": true
   },
   "outputs": [],
   "source": [
    "(|>) = flip ($)"
   ]
  },
  {
   "cell_type": "code",
   "execution_count": null,
   "metadata": {
    "collapsed": true
   },
   "outputs": [],
   "source": [
    "contains :: (Ord a) => a -> BTree a -> Bool\n",
    "\n",
    "contains _ Empty = False\n",
    "contains x (Leaf v) = x == v\n",
    "\n",
    "contains x (Branch l v r)\n",
    "    | x == v = True\n",
    "    | x < v  = contains x l\n",
    "    | otherwise  = contains x r"
   ]
  },
  {
   "cell_type": "code",
   "execution_count": null,
   "metadata": {
    "collapsed": true
   },
   "outputs": [],
   "source": [
    "insert :: (Ord a) => a -> BTree a -> BTree a\n",
    "\n",
    "insert x btree\n",
    "    | contains x btree = btree\n",
    "    | otherwise = insert' x btree\n",
    "        where\n",
    "            insert' x Empty = Leaf x\n",
    "\n",
    "            insert' x (Leaf v)\n",
    "                | x < v = Branch (Leaf x) v Empty\n",
    "                | otherwise = Branch Empty v (Leaf x)\n",
    "\n",
    "            insert' x (Branch l v r)\n",
    "                | x < v = Branch (insert' x l) v r\n",
    "                | otherwise = Branch l v (insert' x r)"
   ]
  },
  {
   "cell_type": "code",
   "execution_count": null,
   "metadata": {
    "collapsed": true
   },
   "outputs": [],
   "source": [
    "findMin :: (Ord a) => BTree a -> Maybe a\n",
    "\n",
    "findMin bt = case bt of\n",
    "    Empty -> Nothing\n",
    "    Leaf v -> Just v\n",
    "    Branch l v _ -> case l of\n",
    "        Empty -> Just v\n",
    "        otherwise -> findMin l"
   ]
  },
  {
   "cell_type": "code",
   "execution_count": null,
   "metadata": {
    "collapsed": true
   },
   "outputs": [],
   "source": [
    "delete :: (Ord a) => a -> BTree a -> BTree a\n",
    "\n",
    "delete x bt = case bt of \n",
    "    Empty -> Empty\n",
    "    Leaf v -> if x == v then Empty else Leaf v\n",
    "    Branch l v r -> \n",
    "        case compare x v of\n",
    "            LT -> Branch (delete x l) v r\n",
    "            GT -> Branch l v (delete x r)\n",
    "            EQ -> case minRightBranchValue of\n",
    "                      Just v' -> Branch l v' (delete v' r)\n",
    "                      Nothing -> l -- right branch is empty\n",
    "                  where\n",
    "                      minRightBranchValue = findMin r"
   ]
  },
  {
   "cell_type": "code",
   "execution_count": null,
   "metadata": {
    "collapsed": true
   },
   "outputs": [],
   "source": [
    "instance Foldable BTree where\n",
    "    foldr f z Empty = z\n",
    "    foldr f z (Leaf x) = f x z\n",
    "    foldr f z (Branch l v r) = foldr f (f v (foldr f z r)) l"
   ]
  },
  {
   "cell_type": "code",
   "execution_count": null,
   "metadata": {
    "collapsed": true
   },
   "outputs": [],
   "source": [
    "toBTree :: (Foldable f, Ord a) => f a -> BTree a\n",
    "\n",
    "toBTree = foldr insert Empty"
   ]
  },
  {
   "cell_type": "code",
   "execution_count": null,
   "metadata": {
    "collapsed": true
   },
   "outputs": [],
   "source": [
    "toList = foldr (:) []"
   ]
  },
  {
   "cell_type": "code",
   "execution_count": null,
   "metadata": {},
   "outputs": [],
   "source": [
    "[1, 2, 0, 1, 1, 1, 2, 3, -1, 5, -2, 4] \n",
    "    |> reverse\n",
    "    |> toBTree\n",
    "    |> insert 1 \n",
    "    |> insert 2 \n",
    "    |> insert 0 \n",
    "    |> insert 3\n",
    "    |> delete 1\n",
    "    |> delete 2\n",
    "    |> delete 3\n",
    "    |> delete 0\n",
    "    |> toList"
   ]
  }
 ],
 "metadata": {
  "kernelspec": {
   "display_name": "Haskell",
   "language": "haskell",
   "name": "haskell"
  },
  "language_info": {
   "codemirror_mode": "ihaskell",
   "file_extension": ".hs",
   "name": "haskell",
   "version": "7.10.3"
  }
 },
 "nbformat": 4,
 "nbformat_minor": 2
}
